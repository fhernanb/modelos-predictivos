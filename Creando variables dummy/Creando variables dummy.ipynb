{
 "cells": [
  {
   "cell_type": "markdown",
   "metadata": {},
   "source": [
    "# Creando variables dummy\n",
    "\n",
    "\n",
    "<img src=\"https://raw.githubusercontent.com/fhernanb/fhernanb.github.io/master/docs/logo_unal_color.png\" alt=\"drawing\" width=\"200\"/>\n",
    " "
   ]
  },
  {
   "cell_type": "markdown",
   "metadata": {},
   "source": [
    "En esta publicación se muestra como crear variables dummy a partir de variables cualiatativas."
   ]
  },
  {
   "cell_type": "code",
   "execution_count": 1,
   "metadata": {},
   "outputs": [],
   "source": [
    "import pandas as pd"
   ]
  },
  {
   "cell_type": "markdown",
   "metadata": {},
   "source": [
    "## Ejemplo 1: usando pandas\n",
    "\n",
    "Vamos a crear un marco de datos sencillo. La variables x1 y x2 tienen cada una tres niveles."
   ]
  },
  {
   "cell_type": "code",
   "execution_count": 2,
   "metadata": {},
   "outputs": [
    {
     "name": "stdout",
     "output_type": "stream",
     "text": [
      "Datos originales \n",
      "\n",
      "  x1 x2    y\n",
      "0  a  p  2.5\n",
      "1  c  s  5.3\n",
      "2  b  s  3.6\n",
      "3  a  r -4.2\n"
     ]
    }
   ],
   "source": [
    "data = pd.DataFrame()\n",
    "data['x1'] = ['a', 'c', 'b', 'a']\n",
    "data['x2'] = ['p', 's', 's', 'r']\n",
    "data['y'] = [2.5, 5.3, 3.6, -4.2]\n",
    "\n",
    "print('Datos originales \\n')\n",
    "print(data)"
   ]
  },
  {
   "cell_type": "markdown",
   "metadata": {},
   "source": [
    "Vamos a usar la función `pd.get_dummies` sin modificar sus argumentos, para transformar las variables x1 y x2."
   ]
  },
  {
   "cell_type": "code",
   "execution_count": 3,
   "metadata": {},
   "outputs": [
    {
     "data": {
      "text/html": [
       "<div>\n",
       "<style scoped>\n",
       "    .dataframe tbody tr th:only-of-type {\n",
       "        vertical-align: middle;\n",
       "    }\n",
       "\n",
       "    .dataframe tbody tr th {\n",
       "        vertical-align: top;\n",
       "    }\n",
       "\n",
       "    .dataframe thead th {\n",
       "        text-align: right;\n",
       "    }\n",
       "</style>\n",
       "<table border=\"1\" class=\"dataframe\">\n",
       "  <thead>\n",
       "    <tr style=\"text-align: right;\">\n",
       "      <th></th>\n",
       "      <th>x1_a</th>\n",
       "      <th>x1_b</th>\n",
       "      <th>x1_c</th>\n",
       "      <th>x2_p</th>\n",
       "      <th>x2_r</th>\n",
       "      <th>x2_s</th>\n",
       "    </tr>\n",
       "  </thead>\n",
       "  <tbody>\n",
       "    <tr>\n",
       "      <th>0</th>\n",
       "      <td>1</td>\n",
       "      <td>0</td>\n",
       "      <td>0</td>\n",
       "      <td>1</td>\n",
       "      <td>0</td>\n",
       "      <td>0</td>\n",
       "    </tr>\n",
       "    <tr>\n",
       "      <th>1</th>\n",
       "      <td>0</td>\n",
       "      <td>0</td>\n",
       "      <td>1</td>\n",
       "      <td>0</td>\n",
       "      <td>0</td>\n",
       "      <td>1</td>\n",
       "    </tr>\n",
       "    <tr>\n",
       "      <th>2</th>\n",
       "      <td>0</td>\n",
       "      <td>1</td>\n",
       "      <td>0</td>\n",
       "      <td>0</td>\n",
       "      <td>0</td>\n",
       "      <td>1</td>\n",
       "    </tr>\n",
       "    <tr>\n",
       "      <th>3</th>\n",
       "      <td>1</td>\n",
       "      <td>0</td>\n",
       "      <td>0</td>\n",
       "      <td>0</td>\n",
       "      <td>1</td>\n",
       "      <td>0</td>\n",
       "    </tr>\n",
       "  </tbody>\n",
       "</table>\n",
       "</div>"
      ],
      "text/plain": [
       "   x1_a  x1_b  x1_c  x2_p  x2_r  x2_s\n",
       "0     1     0     0     1     0     0\n",
       "1     0     0     1     0     0     1\n",
       "2     0     1     0     0     0     1\n",
       "3     1     0     0     0     1     0"
      ]
     },
     "execution_count": 3,
     "metadata": {},
     "output_type": "execute_result"
    }
   ],
   "source": [
    "pd.get_dummies(data[['x1', 'x2']])"
   ]
  },
  {
   "cell_type": "markdown",
   "metadata": {},
   "source": [
    "De la salida anterior vemos que aparecen tantas columnas como niveles tiene la variable cualitativa."
   ]
  },
  {
   "cell_type": "markdown",
   "metadata": {},
   "source": [
    "Vamos a usar `pd.get_dummies` para transformar las variables x1 y x2. Vamos a explorar el efecto de `drop_first=True`."
   ]
  },
  {
   "cell_type": "code",
   "execution_count": 4,
   "metadata": {},
   "outputs": [
    {
     "name": "stdout",
     "output_type": "stream",
     "text": [
      "Datos transformados \n",
      "\n",
      "   x1_b  x1_c  x2_r  x2_s\n",
      "0     0     0     0     0\n",
      "1     0     1     0     1\n",
      "2     1     0     0     1\n",
      "3     0     0     1     0\n"
     ]
    }
   ],
   "source": [
    "dummy_data = pd.get_dummies(data[['x1', 'x2']], drop_first=True)\n",
    "\n",
    "print('Datos transformados \\n')\n",
    "print(dummy_data)"
   ]
  },
  {
   "cell_type": "markdown",
   "metadata": {},
   "source": [
    "De la salida anterior vemos que __NO__ aparecen las columnas asociadas a los niveles de referencia de x1 (\"a\") ni x2 (\"p\")."
   ]
  },
  {
   "cell_type": "markdown",
   "metadata": {},
   "source": [
    "## Ejemplo 2: usando pandas\n",
    "\n",
    "Vamos a crear otro marco de datos sencillo."
   ]
  },
  {
   "cell_type": "code",
   "execution_count": 5,
   "metadata": {},
   "outputs": [
    {
     "name": "stdout",
     "output_type": "stream",
     "text": [
      "Datos originales \n",
      "\n",
      "   precio  area    pisci\n",
      "0      12     3   Grande\n",
      "1      15     4      Sin\n",
      "2      25     1  Pequena\n",
      "3      11     6  Pequena\n",
      "4      16     5      Sin\n",
      "5       7     3   Grande\n",
      "\n",
      "\n",
      "Datos transformados \n",
      "\n",
      "   precio  area  pisci_&_Pequena  pisci_&_Sin\n",
      "0      12     3                0            0\n",
      "1      15     4                0            1\n",
      "2      25     1                1            0\n",
      "3      11     6                1            0\n",
      "4      16     5                0            1\n",
      "5       7     3                0            0\n"
     ]
    }
   ],
   "source": [
    "datos = pd.DataFrame()\n",
    "datos['precio'] = [12, 15, 25, 11, 16, 7]\n",
    "datos['area'] = [3, 4, 1, 6, 5, 3]\n",
    "datos['pisci'] = ['Grande', 'Sin', 'Pequena', 'Pequena', 'Sin', 'Grande']\n",
    "\n",
    "print('Datos originales \\n')\n",
    "print(datos)\n",
    "\n",
    "dummy_data = pd.get_dummies(datos, prefix_sep='_&_', drop_first=True)\n",
    "\n",
    "print('\\n')\n",
    "print('Datos transformados \\n')\n",
    "print(dummy_data)"
   ]
  }
 ],
 "metadata": {
  "kernelspec": {
   "display_name": "Python 3",
   "language": "python",
   "name": "python3"
  },
  "language_info": {
   "codemirror_mode": {
    "name": "ipython",
    "version": 3
   },
   "file_extension": ".py",
   "mimetype": "text/x-python",
   "name": "python",
   "nbconvert_exporter": "python",
   "pygments_lexer": "ipython3",
   "version": "3.7.3"
  }
 },
 "nbformat": 4,
 "nbformat_minor": 2
}
